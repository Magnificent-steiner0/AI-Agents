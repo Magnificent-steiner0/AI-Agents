{
  "nbformat": 4,
  "nbformat_minor": 0,
  "metadata": {
    "colab": {
      "provenance": []
    },
    "kernelspec": {
      "name": "python3",
      "display_name": "Python 3"
    },
    "language_info": {
      "name": "python"
    }
  },
  "cells": [
    {
      "cell_type": "code",
      "execution_count": 1,
      "metadata": {
        "collapsed": true,
        "colab": {
          "base_uri": "https://localhost:8080/"
        },
        "id": "zzvn0YP_rjPL",
        "outputId": "7a668df7-852b-4975-f3f9-aaa2eb4eab02"
      },
      "outputs": [
        {
          "output_type": "stream",
          "name": "stdout",
          "text": [
            "\u001b[2K   \u001b[90m━━━━━━━━━━━━━━━━━━━━━━━━━━━━━━━━━━━━━━━━\u001b[0m \u001b[32m2.5/2.5 MB\u001b[0m \u001b[31m16.7 MB/s\u001b[0m eta \u001b[36m0:00:00\u001b[0m\n",
            "\u001b[2K   \u001b[90m━━━━━━━━━━━━━━━━━━━━━━━━━━━━━━━━━━━━━━━━\u001b[0m \u001b[32m62.4/62.4 kB\u001b[0m \u001b[31m2.4 MB/s\u001b[0m eta \u001b[36m0:00:00\u001b[0m\n",
            "\u001b[2K   \u001b[90m━━━━━━━━━━━━━━━━━━━━━━━━━━━━━━━━━━━━━━━━\u001b[0m \u001b[32m433.9/433.9 kB\u001b[0m \u001b[31m8.4 MB/s\u001b[0m eta \u001b[36m0:00:00\u001b[0m\n",
            "\u001b[2K   \u001b[90m━━━━━━━━━━━━━━━━━━━━━━━━━━━━━━━━━━━━━━━━\u001b[0m \u001b[32m44.4/44.4 kB\u001b[0m \u001b[31m1.6 MB/s\u001b[0m eta \u001b[36m0:00:00\u001b[0m\n",
            "\u001b[2K   \u001b[90m━━━━━━━━━━━━━━━━━━━━━━━━━━━━━━━━━━━━━━━━\u001b[0m \u001b[32m1.2/1.2 MB\u001b[0m \u001b[31m6.9 MB/s\u001b[0m eta \u001b[36m0:00:00\u001b[0m\n",
            "\u001b[2K   \u001b[90m━━━━━━━━━━━━━━━━━━━━━━━━━━━━━━━━━━━━━━━━\u001b[0m \u001b[32m50.9/50.9 kB\u001b[0m \u001b[31m2.0 MB/s\u001b[0m eta \u001b[36m0:00:00\u001b[0m\n",
            "\u001b[?25h"
          ]
        }
      ],
      "source": [
        "!pip install langchain langchain-community langchain_openai --quiet"
      ]
    },
    {
      "cell_type": "code",
      "source": [
        "!pip install langchain_anthropic --quiet"
      ],
      "metadata": {
        "colab": {
          "base_uri": "https://localhost:8080/"
        },
        "id": "7jLPNCGD9oN6",
        "outputId": "d19c444c-02e0-4a14-8d0d-2e03f07aaefe"
      },
      "execution_count": 104,
      "outputs": [
        {
          "output_type": "stream",
          "name": "stdout",
          "text": [
            "\u001b[?25l   \u001b[90m━━━━━━━━━━━━━━━━━━━━━━━━━━━━━━━━━━━━━━━━\u001b[0m \u001b[32m0.0/243.4 kB\u001b[0m \u001b[31m?\u001b[0m eta \u001b[36m-:--:--\u001b[0m\r\u001b[2K   \u001b[91m━━━━━━━━━━━━━━━━━━━━━━━━━━━━━━━━━━━━━━\u001b[0m\u001b[91m╸\u001b[0m\u001b[90m━\u001b[0m \u001b[32m235.5/243.4 kB\u001b[0m \u001b[31m11.4 MB/s\u001b[0m eta \u001b[36m0:00:01\u001b[0m\r\u001b[2K   \u001b[90m━━━━━━━━━━━━━━━━━━━━━━━━━━━━━━━━━━━━━━━━\u001b[0m \u001b[32m243.4/243.4 kB\u001b[0m \u001b[31m6.4 MB/s\u001b[0m eta \u001b[36m0:00:00\u001b[0m\n",
            "\u001b[?25h"
          ]
        }
      ]
    },
    {
      "cell_type": "code",
      "source": [
        "from langchain.prompts import ChatPromptTemplate\n",
        "from langchain.schema.output_parser import StrOutputParser\n",
        "from langchain.schema.runnable import RunnableParallel, RunnableLambda\n",
        "from langchain_anthropic import ChatAnthropic"
      ],
      "metadata": {
        "id": "AJ6I-jVzrjzn"
      },
      "execution_count": 105,
      "outputs": []
    },
    {
      "cell_type": "code",
      "source": [
        "import os\n",
        "from google.colab import userdata\n",
        "os.environ[\"ANTHROPIC_API_KEY\"] = userdata.get('claude-key')\n",
        "model = ChatAnthropic(model=\"claude-3-5-sonnet-20241022\")"
      ],
      "metadata": {
        "id": "PAP2vG3Srsyt"
      },
      "execution_count": 106,
      "outputs": []
    },
    {
      "cell_type": "code",
      "source": [
        "prompt_template = ChatPromptTemplate.from_messages(\n",
        "    [\n",
        "        (\"system\", \"You are an expert lab report writer\"),\n",
        "        (\"human\", \"Write a lab report on {topic_name}\"),\n",
        "    ]\n",
        ")"
      ],
      "metadata": {
        "id": "6JHYXTUWrvJB"
      },
      "execution_count": 86,
      "outputs": []
    },
    {
      "cell_type": "code",
      "source": [
        "def write_objectives(inputs):\n",
        "  objectives_template = ChatPromptTemplate.from_messages(\n",
        "      [\n",
        "          (\"system\", \"You are an expert lab report writer\"),\n",
        "          (\n",
        "              \"human\",\n",
        "              \"given the topic: {topic_name}, write the objectives\",\n",
        "          ),\n",
        "      ]\n",
        "  )\n",
        "  return objectives_template.format_prompt(topic_name=inputs[\"topic_name\"])"
      ],
      "metadata": {
        "id": "0P6IeDflsjXA"
      },
      "execution_count": 60,
      "outputs": []
    },
    {
      "cell_type": "code",
      "source": [
        "def write_introduction(inputs):\n",
        "  introduction_template = ChatPromptTemplate.from_messages(\n",
        "      [\n",
        "          (\"system\", \"You are an expert lab report writer\"),\n",
        "          (\n",
        "              \"human\",\n",
        "              \"given the topic: {topic_name}, write the introduction\",\n",
        "          ),\n",
        "      ]\n",
        "  )\n",
        "  return introduction_template.format_prompt(topic_name=inputs[\"topic_name\"])"
      ],
      "metadata": {
        "id": "A8CUzYS_r_RI"
      },
      "execution_count": 61,
      "outputs": []
    },
    {
      "cell_type": "code",
      "source": [
        "def write_theory(inputs):\n",
        "  theory_template = ChatPromptTemplate.from_messages(\n",
        "      [\n",
        "          (\"system\", \"You are an expert lab report writer\"),\n",
        "          (\n",
        "              \"human\",\n",
        "              \"given the topic: {topic_name}, write the thoery\",\n",
        "          ),\n",
        "      ]\n",
        "  )\n",
        "  return theory_template.format_prompt(topic_name=inputs[\"topic_name\"])"
      ],
      "metadata": {
        "id": "sCcabARIshsI"
      },
      "execution_count": 70,
      "outputs": []
    },
    {
      "cell_type": "code",
      "source": [
        "def write_result(inputs):\n",
        "  result_template = ChatPromptTemplate.from_messages(\n",
        "      [\n",
        "          (\"system\", \"You are an expert lab report writer\"),\n",
        "          (\n",
        "              \"human\",\n",
        "              \"given the topic: {topic_name}, write the result\",\n",
        "          ),\n",
        "      ]\n",
        "  )\n",
        "  return result_template.format_prompt(topic_name=inputs[\"topic_name\"])"
      ],
      "metadata": {
        "id": "S8HHq9C0utfY"
      },
      "execution_count": 63,
      "outputs": []
    },
    {
      "cell_type": "code",
      "source": [
        "def write_discussion(inputs):\n",
        "  discussion_template = ChatPromptTemplate.from_messages(\n",
        "      [\n",
        "          (\"system\", \"You are an expert lab report writer\"),\n",
        "          (\n",
        "              \"human\",\n",
        "              \"given the topic: {topic_name}, write the discussion\",\n",
        "          ),\n",
        "      ]\n",
        "  )\n",
        "  return discussion_template.format_prompt(topic_name=inputs[\"topic_name\"])"
      ],
      "metadata": {
        "id": "9wvFILMuvJ3X"
      },
      "execution_count": 73,
      "outputs": []
    },
    {
      "cell_type": "code",
      "source": [
        "def write_conclusion(inputs):\n",
        "  conclusion_template = ChatPromptTemplate.from_messages(\n",
        "      [\n",
        "          (\"system\", \"You are an expert lab report writer\"),\n",
        "          (\n",
        "              \"human\",\n",
        "              \"given the topic: {topic_name}, write the conclusion\",\n",
        "          ),\n",
        "      ]\n",
        "  )\n",
        "  return conclusion_template.format_prompt(topic_name=inputs[\"topic_name\"])"
      ],
      "metadata": {
        "id": "8N-GZ0pGvRX1"
      },
      "execution_count": 79,
      "outputs": []
    },
    {
      "cell_type": "code",
      "source": [
        "def combine_all(objectives, introduction, thoery, result, discussion, conclusion):\n",
        "  return f\"objectives: {objectives}\\n introduction: {introduction}\\n thoery: {thoery}\\n result: {result}\\n discussion: {discussion}\\n conclusion: {conclusion}\""
      ],
      "metadata": {
        "id": "8AehUgyDvY6G"
      },
      "execution_count": 107,
      "outputs": []
    },
    {
      "cell_type": "code",
      "source": [
        "objectives_branch_chain = (\n",
        "    RunnableLambda(lambda x: write_objectives(x)) | model | StrOutputParser()\n",
        ")\n",
        "introduction_branch_chain = (\n",
        "    RunnableLambda(lambda x: write_introduction(x)) | model | StrOutputParser()\n",
        ")\n",
        "theory_branch_chain = (\n",
        "    RunnableLambda(lambda x: write_theory(x)) | model | StrOutputParser()\n",
        ")\n",
        "result_branch_chain = (\n",
        "    RunnableLambda(lambda x: write_result(x)) | model | StrOutputParser()\n",
        ")\n",
        "discussion_branch_chain = (\n",
        "    RunnableLambda(lambda x: write_discussion(x)) | model | StrOutputParser()\n",
        ")\n",
        "conclusion_branch_chain = (\n",
        "    RunnableLambda(lambda x: write_conclusion(x)) | model | StrOutputParser()\n",
        ")"
      ],
      "metadata": {
        "id": "ZmBX-Q2avv1m"
      },
      "execution_count": 108,
      "outputs": []
    },
    {
      "cell_type": "code",
      "source": [
        "chain = (\n",
        "RunnableParallel(\n",
        "        {\n",
        "          \"objectives\": objectives_branch_chain,\n",
        "          \"introduction\": introduction_branch_chain,\n",
        "          \"theory\": theory_branch_chain,\n",
        "          \"result\": result_branch_chain,\n",
        "          \"discussion\": discussion_branch_chain,\n",
        "          \"conclusion\": conclusion_branch_chain,\n",
        "        }\n",
        "        )\n",
        "    | RunnableLambda(lambda x: combine_all(x[\"objectives\"],x[\"introduction\"],x[\"theory\"],x[\"result\"], x[\"discussion\"], x[\"conclusion\"]))\n",
        ")"
      ],
      "metadata": {
        "id": "t-JOli-vwKyG"
      },
      "execution_count": 109,
      "outputs": []
    },
    {
      "cell_type": "code",
      "source": [
        "result = chain.invoke({\"topic_name\" : \"OHM's law verification\"})"
      ],
      "metadata": {
        "id": "49fxv7M4xS11"
      },
      "execution_count": 110,
      "outputs": []
    },
    {
      "cell_type": "code",
      "source": [
        "print(result)"
      ],
      "metadata": {
        "colab": {
          "base_uri": "https://localhost:8080/"
        },
        "id": "e3vQcU5ux0Fs",
        "outputId": "89dd666c-dff2-4f31-cd3d-2bf45640f1ab"
      },
      "execution_count": 111,
      "outputs": [
        {
          "output_type": "stream",
          "name": "stdout",
          "text": [
            "objectives: Here are the appropriate objectives for an Ohm's Law verification experiment:\n",
            "\n",
            "OBJECTIVES:\n",
            "\n",
            "1. To verify Ohm's Law by investigating the relationship between voltage (V) and current (I) in a simple electrical circuit\n",
            "\n",
            "2. To determine if the resistance (R) remains constant when voltage and current are varied\n",
            "\n",
            "3. To plot a V-I characteristic curve and analyze its linearity\n",
            "\n",
            "4. To calculate the resistance value using the slope of the V-I graph and compare it with the given resistor value\n",
            "\n",
            "5. To understand the practical limitations and sources of experimental error in verifying Ohm's Law\n",
            "\n",
            "These objectives effectively cover the main purposes of conducting an Ohm's Law verification experiment, from basic verification to practical analysis and understanding of experimental limitations.\n",
            " introduction: Here's a comprehensive introduction for a lab report on Ohm's Law verification:\n",
            "\n",
            "Introduction:\n",
            "\n",
            "Ohm's Law is one of the fundamental principles in electrical engineering and physics, first formulated by German physicist Georg Ohm in 1827. This law describes the relationship between voltage (V), current (I), and resistance (R) in an electrical circuit, stating that the current flowing through a conductor is directly proportional to the potential difference across it and inversely proportional to its resistance. This relationship is mathematically expressed as V = IR.\n",
            "\n",
            "The verification of Ohm's Law is crucial for understanding basic electrical circuits and serves as a cornerstone for more complex electrical analyses. In this experiment, we aim to demonstrate and verify this fundamental relationship by measuring the current flowing through a resistor at various applied voltages. By plotting these measurements on a graph, we expect to observe a linear relationship between voltage and current, with the slope representing the reciprocal of the resistance.\n",
            "\n",
            "Understanding and verifying Ohm's Law is essential for various practical applications, from designing simple electronic devices to analyzing complex electrical systems. This experiment not only helps in comprehending the behavior of electrical components but also provides hands-on experience with basic electrical measurement techniques and data analysis.\n",
            "\n",
            "The primary objectives of this experiment are:\n",
            "1. To measure the current through a resistor at different voltage levels\n",
            "2. To plot the voltage-current relationship and analyze its linearity\n",
            "3. To calculate the resistance value using the experimental data and compare it with the nominal value\n",
            "4. To verify the validity of Ohm's Law within experimental limitations\n",
            " thoery: Here's a comprehensive theory section for Ohm's Law verification:\n",
            "\n",
            "THEORY\n",
            "\n",
            "Ohm's Law is one of the fundamental principles in electrical circuits that describes the relationship between voltage (V), current (I), and resistance (R). According to Ohm's Law, the current flowing through a conductor is directly proportional to the potential difference (voltage) across it, provided the physical conditions (particularly temperature) remain constant.\n",
            "\n",
            "Mathematically, Ohm's Law is expressed as:\n",
            "V = IR\n",
            "\n",
            "Where:\n",
            "V = Potential difference across the conductor (measured in volts, V)\n",
            "I = Current flowing through the conductor (measured in amperes, A)\n",
            "R = Resistance of the conductor (measured in ohms, Ω)\n",
            "\n",
            "This relationship implies that:\n",
            "1. If voltage increases while resistance remains constant, current increases proportionally\n",
            "2. If resistance increases while voltage remains constant, current decreases proportionally\n",
            "\n",
            "The resistance (R) of a conductor can be determined by plotting a graph of voltage (V) versus current (I). According to Ohm's Law:\n",
            "- The graph should be a straight line passing through the origin\n",
            "- The slope of this line represents the resistance of the conductor\n",
            "- A linear relationship between V and I indicates that the conductor is \"ohmic\" or follows Ohm's Law\n",
            "\n",
            "It's important to note that not all conductors follow Ohm's Law. Those that do are called ohmic conductors (like metallic wires at constant temperature), while those that don't are called non-ohmic conductors (like semiconductors and diodes).\n",
            "\n",
            "For an ohmic conductor, the resistance remains constant regardless of the applied voltage or current. This constant resistance is a property of the material and depends on:\n",
            "- The material's resistivity\n",
            "- The length of the conductor\n",
            "- The cross-sectional area of the conductor\n",
            "- The temperature of the conductor\n",
            "\n",
            "Through experimental verification, Ohm's Law can be demonstrated by measuring various values of current for different applied voltages across a resistor and analyzing their relationship.\n",
            " result: Here's a sample result section for an Ohm's Law verification experiment:\n",
            "\n",
            "RESULTS\n",
            "\n",
            "The experimental data collected to verify Ohm's Law showed a direct linear relationship between voltage (V) and current (I) at constant resistance. The following results were obtained:\n",
            "\n",
            "Table 1: Voltage and Current Measurements for a Fixed Resistor (R = 100Ω)\n",
            "Voltage (V) | Current (I) mA | Calculated Resistance (Ω)\n",
            "2.0          | 20.1          | 99.5\n",
            "4.0          | 39.8          | 100.5\n",
            "6.0          | 60.2          | 99.7\n",
            "8.0          | 79.9          | 100.1\n",
            "10.0         | 100.3         | 99.7\n",
            "\n",
            "The V-I graph plotted using the experimental data yielded a straight line passing through the origin, with a slope of 100.2 Ω. This slope represents the resistance of the conductor used in the circuit.\n",
            "\n",
            "The average calculated resistance from the individual V/I measurements was 99.9 Ω, with a standard deviation of ±0.4 Ω. This closely matches the nominal resistance value of 100 Ω marked on the resistor.\n",
            "\n",
            "The correlation coefficient (R²) of the V-I plot was calculated to be 0.999, indicating an extremely strong linear relationship between voltage and current, as predicted by Ohm's Law.\n",
            "\n",
            "The percentage error between the average measured resistance and the nominal value was calculated to be:\n",
            "Percentage Error = [(100 - 99.9)/100] × 100 = 0.1%\n",
            "\n",
            "These results strongly support the validity of Ohm's Law, demonstrating that current is directly proportional to voltage when temperature remains constant.\n",
            " discussion: Here's a comprehensive discussion section for an Ohm's Law verification experiment:\n",
            "\n",
            "Discussion:\n",
            "\n",
            "The experimental results obtained demonstrate a strong correlation between voltage and current, supporting the fundamental principles of Ohm's Law. The linear relationship observed in our voltage-current graph, with an R² value close to 1 (assuming this was found in the results), validates that the current is directly proportional to the voltage when temperature remains constant.\n",
            "\n",
            "Several key observations can be discussed:\n",
            "\n",
            "1. Linear Relationship:\n",
            "The graphical representation shows a nearly straight line passing through the origin, which is consistent with Ohm's Law (V = IR). This linearity confirms that the resistance remains constant throughout the experiment, a key requirement for an ohmic conductor.\n",
            "\n",
            "2. Resistance Calculation:\n",
            "The slope of the V-I graph represents the resistance of the conductor. The experimental value of resistance calculated (insert specific value) closely matches the manufacturer's specified resistance value, with a percentage error of (insert error percentage). This small discrepancy can be attributed to various factors:\n",
            "\n",
            "3. Sources of Error:\n",
            "a) Temperature fluctuations during the experiment might have slightly affected the resistance of the conductor\n",
            "b) Contact resistance at connection points could have introduced minor variations\n",
            "c) Instrument uncertainty in both ammeter and voltmeter readings\n",
            "d) Internal resistance of the measuring instruments might have influenced readings\n",
            "\n",
            "4. Experimental Limitations:\n",
            "a) The experiment was conducted within a limited voltage range to prevent heating effects\n",
            "b) Environmental factors such as room temperature and humidity weren't controlled\n",
            "c) The precision of the measuring instruments may have affected the accuracy of readings\n",
            "\n",
            "5. Verification of Ohm's Law:\n",
            "The results successfully verify Ohm's Law within experimental uncertainties. The consistent ratio of voltage to current (R) throughout the experiment confirms that the conductor used was indeed ohmic in nature.\n",
            "\n",
            "Recommendations for Future Experiments:\n",
            "1. Use temperature-controlled environment\n",
            "2. Employ more precise digital instruments\n",
            "3. Include a wider range of voltage values\n",
            "4. Consider using four-wire resistance measurement technique to eliminate contact resistance effects\n",
            "\n",
            "In conclusion, the experimental data strongly supports Ohm's Law, with observed deviations falling within acceptable experimental error ranges. The linear relationship between voltage and current was clearly demonstrated, and the calculated resistance value aligns well with theoretical expectations.\n",
            " conclusion: Here's a conclusion for an Ohm's Law verification experiment:\n",
            "\n",
            "Conclusion:\n",
            "\n",
            "The experiment successfully verified Ohm's Law, which states that the current flowing through a conductor is directly proportional to the potential difference across it, provided that physical conditions (particularly temperature) remain constant. The results obtained demonstrated a strong linear relationship between voltage and current, as evidenced by the linear graph plotted with experimental data points.\n",
            "\n",
            "The calculated value of resistance from the slope of the V-I graph (approximately [insert value] Ω) closely matched the theoretical resistance value of the resistor used (insert theoretical value] Ω), with a percentage error of only [insert percentage]%. The small discrepancy can be attributed to experimental uncertainties, including minor fluctuations in temperature, instrument reading errors, and contact resistance in the circuit connections.\n",
            "\n",
            "The linear relationship obtained and the consistent resistance values across different voltage readings confirm that the resistor used in this experiment is indeed ohmic in nature. The near-zero y-intercept of the graph further validates the accuracy of our measurements and the proper setup of the circuit.\n",
            "\n",
            "This experiment effectively demonstrates that Ohm's Law is a reliable principle for predicting the behavior of current in relation to voltage in simple electrical circuits with ohmic conductors.\n",
            "\n",
            "[Note: Actual values should be inserted based on the specific experimental results]\n"
          ]
        }
      ]
    },
    {
      "cell_type": "code",
      "source": [],
      "metadata": {
        "id": "j64L2eHX-DGU"
      },
      "execution_count": null,
      "outputs": []
    }
  ]
}