{
  "nbformat": 4,
  "nbformat_minor": 0,
  "metadata": {
    "colab": {
      "provenance": []
    },
    "kernelspec": {
      "name": "python3",
      "display_name": "Python 3"
    },
    "language_info": {
      "name": "python"
    }
  },
  "cells": [
    {
      "cell_type": "code",
      "execution_count": 1,
      "metadata": {
        "colab": {
          "base_uri": "https://localhost:8080/"
        },
        "id": "B35HRdeSMecj",
        "outputId": "4a57e435-00b4-4e69-835b-8f68b9dea620"
      },
      "outputs": [
        {
          "output_type": "stream",
          "name": "stdout",
          "text": [
            "\u001b[?25l   \u001b[90m━━━━━━━━━━━━━━━━━━━━━━━━━━━━━━━━━━━━━━━━\u001b[0m \u001b[32m0.0/2.5 MB\u001b[0m \u001b[31m?\u001b[0m eta \u001b[36m-:--:--\u001b[0m\r\u001b[2K   \u001b[91m━━━━━━━━━━━━━━━━━━━━━━━━━━━━━━━━━━━━━━\u001b[0m\u001b[91m╸\u001b[0m\u001b[90m━\u001b[0m \u001b[32m2.5/2.5 MB\u001b[0m \u001b[31m74.3 MB/s\u001b[0m eta \u001b[36m0:00:01\u001b[0m\r\u001b[2K   \u001b[90m━━━━━━━━━━━━━━━━━━━━━━━━━━━━━━━━━━━━━━━━\u001b[0m \u001b[32m2.5/2.5 MB\u001b[0m \u001b[31m36.7 MB/s\u001b[0m eta \u001b[36m0:00:00\u001b[0m\n",
            "\u001b[2K   \u001b[90m━━━━━━━━━━━━━━━━━━━━━━━━━━━━━━━━━━━━━━━━\u001b[0m \u001b[32m62.4/62.4 kB\u001b[0m \u001b[31m2.5 MB/s\u001b[0m eta \u001b[36m0:00:00\u001b[0m\n",
            "\u001b[2K   \u001b[90m━━━━━━━━━━━━━━━━━━━━━━━━━━━━━━━━━━━━━━━━\u001b[0m \u001b[32m433.9/433.9 kB\u001b[0m \u001b[31m16.7 MB/s\u001b[0m eta \u001b[36m0:00:00\u001b[0m\n",
            "\u001b[2K   \u001b[90m━━━━━━━━━━━━━━━━━━━━━━━━━━━━━━━━━━━━━━━━\u001b[0m \u001b[32m44.4/44.4 kB\u001b[0m \u001b[31m2.3 MB/s\u001b[0m eta \u001b[36m0:00:00\u001b[0m\n",
            "\u001b[2K   \u001b[90m━━━━━━━━━━━━━━━━━━━━━━━━━━━━━━━━━━━━━━━━\u001b[0m \u001b[32m1.2/1.2 MB\u001b[0m \u001b[31m23.9 MB/s\u001b[0m eta \u001b[36m0:00:00\u001b[0m\n",
            "\u001b[2K   \u001b[90m━━━━━━━━━━━━━━━━━━━━━━━━━━━━━━━━━━━━━━━━\u001b[0m \u001b[32m50.9/50.9 kB\u001b[0m \u001b[31m2.3 MB/s\u001b[0m eta \u001b[36m0:00:00\u001b[0m\n",
            "\u001b[?25h"
          ]
        }
      ],
      "source": [
        "!pip install langchain langchain-community langchain_openai --quiet"
      ]
    },
    {
      "cell_type": "code",
      "source": [
        "from langchain.prompts import ChatPromptTemplate\n",
        "from langchain.schema.output_parser import StrOutputParser\n",
        "from langchain.schema.runnable import RunnableBranch\n",
        "from langchain_openai import ChatOpenAI"
      ],
      "metadata": {
        "id": "n81HtmVDMlBj"
      },
      "execution_count": 2,
      "outputs": []
    },
    {
      "cell_type": "code",
      "source": [
        "import os\n",
        "from google.colab import userdata\n",
        "os.environ[\"OPENAI_API_KEY\"] = userdata.get('practice-key')\n",
        "model = ChatOpenAI(model=\"gpt-4o-mini\")"
      ],
      "metadata": {
        "id": "bi3N3eTkMnu2"
      },
      "execution_count": 3,
      "outputs": []
    },
    {
      "cell_type": "code",
      "source": [
        "positive_feedback_template = ChatPromptTemplate.from_messages(\n",
        "    [\n",
        "        (\"system\", \"You are a helpful assistant\"),\n",
        "        (\"human\", \"Generate a response addressing this negative feedback: {feedback}\"),\n",
        "    ]\n",
        ")"
      ],
      "metadata": {
        "id": "HeQdvejJMyHl"
      },
      "execution_count": 4,
      "outputs": []
    },
    {
      "cell_type": "code",
      "source": [
        "negative_feedback_template = ChatPromptTemplate.from_messages(\n",
        "    [\n",
        "        (\"system\", \"You are a helpful assistant\"),\n",
        "        (\"human\", \"Generate a response addressing this negative feedback: {feedback}\"),\n",
        "    ]\n",
        ")"
      ],
      "metadata": {
        "id": "mni95Z2aNLR7"
      },
      "execution_count": 5,
      "outputs": []
    },
    {
      "cell_type": "code",
      "source": [
        "neutral_feedback_template = ChatPromptTemplate.from_messages(\n",
        "    [\n",
        "        (\"system\", \"You are a helpful assistant\"),\n",
        "        (\"human\", \"Generate a response addressing this neutral feedback: {feedback}\"),\n",
        "    ]\n",
        ")"
      ],
      "metadata": {
        "id": "wMgrZ7rCNVZY"
      },
      "execution_count": 6,
      "outputs": []
    },
    {
      "cell_type": "code",
      "source": [
        "escalate_feedback_template = ChatPromptTemplate.from_messages(\n",
        "    [\n",
        "        (\"system\", \"You are a helpful assistant\"),\n",
        "        (\"human\", \"Generate a message to escalate this feedback to a human agent: {feedback}\"),\n",
        "    ]\n",
        ")"
      ],
      "metadata": {
        "id": "kwQGoAz4REIv"
      },
      "execution_count": 8,
      "outputs": []
    },
    {
      "cell_type": "code",
      "source": [
        "classification_template = ChatPromptTemplate.from_messages(\n",
        "    [\n",
        "        (\"system\", \"You are a helpful assistant\"),\n",
        "        (\"human\", \"Classify this feedback as positive, negative, or neutral: {feedback}\"),\n",
        "    ]\n",
        ")"
      ],
      "metadata": {
        "id": "R83nf3JvNZwk"
      },
      "execution_count": 7,
      "outputs": []
    },
    {
      "cell_type": "code",
      "source": [
        "branches = RunnableBranch(\n",
        "    (\n",
        "        lambda x: \"positive\" in x,\n",
        "        positive_feedback_template | model | StrOutputParser() # positive feedback chain\n",
        "    ),\n",
        "    (\n",
        "        lambda x: \"negative\" in x,\n",
        "        negative_feedback_template | model | StrOutputParser()\n",
        "    ),\n",
        "    (\n",
        "        lambda x: \"neutral\" in x,\n",
        "        neutral_feedback_template | model | StrOutputParser()\n",
        "    ),\n",
        "    escalate_feedback_template | model | StrOutputParser()\n",
        ")"
      ],
      "metadata": {
        "id": "3zZnd6xkQSil"
      },
      "execution_count": 9,
      "outputs": []
    },
    {
      "cell_type": "code",
      "source": [
        "classification_chain = classification_template | model | StrOutputParser()\n",
        "\n",
        "chain = classification_chain | branches"
      ],
      "metadata": {
        "id": "a-z9C9MdRTfC"
      },
      "execution_count": 10,
      "outputs": []
    },
    {
      "cell_type": "code",
      "source": [
        "review = \"Thie product is excellent. I really enjoyed it and found it very helpful.\"\n",
        "\n",
        "result = chain.invoke({\"feedback\": review})\n",
        "\n",
        "print(result)"
      ],
      "metadata": {
        "colab": {
          "base_uri": "https://localhost:8080/"
        },
        "id": "mJSLkDsXRZYU",
        "outputId": "e057508b-05d7-44f9-d080-39064a8e186a"
      },
      "execution_count": 11,
      "outputs": [
        {
          "output_type": "stream",
          "name": "stdout",
          "text": [
            "Thank you for your feedback! I'm glad to hear that you had a positive experience. If there are any specific areas you'd like to highlight or suggestions you have for improvement, please feel free to share. Your insights are valuable in helping us continue to enhance our services.\n"
          ]
        }
      ]
    },
    {
      "cell_type": "code",
      "source": [
        "review = \"Thie product is excellent. But try to be careful while packaging. The package was damaged\"\n",
        "\n",
        "result = chain.invoke({\"feedback\": review})\n",
        "\n",
        "print(result)"
      ],
      "metadata": {
        "colab": {
          "base_uri": "https://localhost:8080/"
        },
        "id": "ZwwT68v_RqBU",
        "outputId": "98e50692-8509-48a4-8e4e-4f4faf0552a2"
      },
      "execution_count": 12,
      "outputs": [
        {
          "output_type": "stream",
          "name": "stdout",
          "text": [
            "Thank you for your feedback! We’re glad to hear that you found the product to be excellent, as we strive to deliver high-quality items to our customers. However, we sincerely apologize for the issue with the damaged packaging. We understand that packaging is an important part of the overall experience, and we take this matter seriously. \n",
            "\n",
            "Your input helps us improve, and we will be addressing this concern with our packaging team to ensure better handling in the future. If you have any further suggestions or if there is anything else we can assist you with, please don't hesitate to reach out. We appreciate your support and hope to provide you with a flawless experience next time!\n"
          ]
        }
      ]
    },
    {
      "cell_type": "code",
      "source": [
        "review = \"The product quality was bad. The expiration date is nearly there. Also very bad packaging!\"\n",
        "\n",
        "result = chain.invoke({\"feedback\": review})\n",
        "\n",
        "print(result)"
      ],
      "metadata": {
        "colab": {
          "base_uri": "https://localhost:8080/"
        },
        "id": "ZmJIu6G0R6pk",
        "outputId": "cbb0cd9e-dac1-4d09-87cf-e63fdbc32db3"
      },
      "execution_count": 13,
      "outputs": [
        {
          "output_type": "stream",
          "name": "stdout",
          "text": [
            "Subject: Addressing Your Feedback\n",
            "\n",
            "Dear [Feedback Provider's Name],\n",
            "\n",
            "Thank you for taking the time to share your concerns with us. We genuinely value all feedback, as it helps us improve and better meet the needs of our customers.\n",
            "\n",
            "I’m sorry to hear that your experience did not meet your expectations. We strive to provide the best possible service, and I understand how disappointing it can be when we fall short of that goal. \n",
            "\n",
            "Could you please provide more specific details about your experience? This information will help us address the issue more effectively and ensure that it doesn’t happen again in the future.\n",
            "\n",
            "Thank you once again for your feedback. We are committed to making the necessary improvements, and your insights are invaluable in this process.\n",
            "\n",
            "Best regards,\n",
            "\n",
            "[Your Name]  \n",
            "[Your Position]  \n",
            "[Your Company]  \n",
            "[Your Contact Information]  \n"
          ]
        }
      ]
    },
    {
      "cell_type": "code",
      "source": [],
      "metadata": {
        "id": "NrmeM6PJSSoY"
      },
      "execution_count": null,
      "outputs": []
    }
  ]
}