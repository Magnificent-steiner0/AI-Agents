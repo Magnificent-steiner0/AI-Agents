{
  "nbformat": 4,
  "nbformat_minor": 0,
  "metadata": {
    "colab": {
      "provenance": []
    },
    "kernelspec": {
      "name": "python3",
      "display_name": "Python 3"
    },
    "language_info": {
      "name": "python"
    }
  },
  "cells": [
    {
      "cell_type": "code",
      "execution_count": 90,
      "metadata": {
        "id": "iBYB9UeeyX7f"
      },
      "outputs": [],
      "source": [
        "!pip install google.cloud langchain_google_firestore langchain-community langchain_openai firebase-admin google-cloud-firestore --quiet"
      ]
    },
    {
      "cell_type": "code",
      "source": [
        "!pip install langchain langchain-community --quiet"
      ],
      "metadata": {
        "id": "yBwI7JAMEdko"
      },
      "execution_count": 91,
      "outputs": []
    },
    {
      "cell_type": "code",
      "source": [
        "from google.cloud import firestore\n",
        "from langchain_community.chat_message_histories import FirestoreChatMessageHistory\n",
        "from langchain_openai import ChatOpenAI"
      ],
      "metadata": {
        "id": "Taoyr9rhz1HB"
      },
      "execution_count": 92,
      "outputs": []
    },
    {
      "cell_type": "code",
      "source": [
        "import os\n",
        "import firebase_admin\n",
        "from firebase_admin import credentials\n",
        "from google.cloud import firestore\n",
        "\n",
        "if not firebase_admin._apps:\n",
        "    cred = credentials.Certificate(\"serviceAccountKey.json\")\n",
        "    firebase_admin.initialize_app(cred)\n",
        "\n",
        "\n",
        "from google.colab import userdata\n",
        "os.environ[\"OPENAI_API_KEY\"] = userdata.get('practice-key')"
      ],
      "metadata": {
        "id": "6XgAmxo4_QNO"
      },
      "execution_count": 101,
      "outputs": []
    },
    {
      "cell_type": "code",
      "source": [
        "PROJECT_ID = \"ai-chat-model\"\n",
        "SESSION_ID = \"user1_session\"\n",
        "COLLECTION_NAME = \"chat_history\""
      ],
      "metadata": {
        "id": "YjIT1_Oy0UrK"
      },
      "execution_count": 111,
      "outputs": []
    },
    {
      "cell_type": "code",
      "source": [
        "print(\"Initializing Firestore Client...\")\n",
        "from google.oauth2 import service_account\n",
        "credentials = service_account.Credentials.from_service_account_file(\"serviceAccountKey.json\")\n",
        "client = firestore.Client(project=PROJECT_ID, credentials=credentials)\n",
        "\n",
        "\n",
        "print(\"Initializing Firestore Chat Message History...\")\n",
        "chat_history = FirestoreChatMessageHistory(\n",
        "    collection_name= COLLECTION_NAME,\n",
        "    session_id= SESSION_ID,\n",
        "    user_id= 1,\n",
        "    firestore_client= client,\n",
        "    )\n",
        "\n",
        "print(\"Chat history initialized.\")\n",
        "print(\"Current Chat History:\", chat_history.messages)"
      ],
      "metadata": {
        "colab": {
          "base_uri": "https://localhost:8080/"
        },
        "id": "GQxRZ2c80YQ5",
        "outputId": "974ab00d-57f7-42c7-9cf9-a4db7ccfdf09"
      },
      "execution_count": 112,
      "outputs": [
        {
          "output_type": "stream",
          "name": "stdout",
          "text": [
            "Initializing Firestore Client...\n",
            "Initializing Firestore Chat Message History...\n",
            "Chat history initialized.\n",
            "Current Chat History: [HumanMessage(content='hello', additional_kwargs={}, response_metadata={}), AIMessage(content='Hello! How can I assist you today?', additional_kwargs={}, response_metadata={}), HumanMessage(content='tell me about ai agents', additional_kwargs={}, response_metadata={}), AIMessage(content='AI agents are autonomous or semi-autonomous entities that leverage artificial intelligence to perform tasks, make decisions, and interact with their environment or users. They can be classified based on their capabilities, the level of autonomy, and the ways they interact with humans.\\n\\n### Types of AI Agents:\\n\\n1. **Reactive Agents**: \\n   - These agents respond to the current state of their environment without any memory of past states or actions. They use simple rules to react to stimuli (e.g., simple chatbots or basic robotic systems).\\n\\n2. **Deliberative Agents**: \\n   - These agents can plan their actions based on internal models of the environment. They consider past experiences and future goals, allowing for more complex decision-making (e.g., game-playing AIs like AlphaGo).\\n\\n3. **Learning Agents**: \\n   - These agents can improve their performance over time by learning from experience. They utilize techniques like machine learning, reinforcement learning, or deep learning (e.g., recommendation systems or personal assistants).\\n\\n4. **Multi-Agent Systems**: \\n   - These systems consist of multiple AI agents that can interact and collaborate with each other or compete against one another. They are used in simulations, game development, and distributed problem-solving scenarios.\\n\\n5. **Human-AI Collaboration Agents**: \\n   - These agents are designed to work alongside humans, providing support, insights, or automation to enhance human decision-making and productivity (e.g., virtual assistants like Siri or Google Assistant).\\n\\n### Applications of AI Agents:\\n\\n- **Customer Service**: AI chatbots and virtual assistants handle customer inquiries and provide support on websites and apps.\\n- **Autonomous Vehicles**: AI agents enable self-driving cars to perceive their environment, make decisions, and navigate safely.\\n- **Personal Assistants**: Tools like Siri, Google Assistant, and Alexa help users manage tasks, control smart home devices, and find information.\\n- **Game AI**: AI agents control non-player characters (NPCs) to create engaging and challenging experiences for players.\\n- **Healthcare**: AI agents can assist in diagnosing conditions, recommending treatment plans, or monitoring patient health remotely.\\n\\n### Key Technologies Behind AI Agents:\\n\\n- **Machine Learning**: Algorithms that enable agents to learn from data and improve their performance over time.\\n- **Natural Language Processing (NLP)**: Technologies that enable understanding and generation of human language, essential for communication in chatbots and virtual assistants.\\n- **Computer Vision**: Techniques that allow agents to perceive and interpret visual information from the environment, crucial for tasks like autonomous driving or surveillance.\\n- **Reinforcement Learning**: A type of machine learning where agents learn to make decisions by receiving rewards or penalties based on their actions in an environment.\\n\\n### Challenges:\\n\\n- **Ethical Concerns**: Issues surrounding privacy, bias, transparency, and accountability in AI decision-making.\\n- **Interpretability**: Understanding how AI agents make decisions, which is vital for trust and reliability.\\n- **Robustness**: Ensuring that AI agents can function effectively in unpredictable or adversarial environments.\\n\\nAI agents continue to evolve, driving innovations across various sectors, and they hold the potential to transform industries by improving efficiency, accuracy, and user experience.', additional_kwargs={}, response_metadata={})]\n"
          ]
        }
      ]
    },
    {
      "cell_type": "code",
      "source": [
        "model = ChatOpenAI(model=\"gpt-4o-mini\")\n",
        "print(\"Start chatting with the AI. Type 'exit' to quit\")\n",
        "\n",
        "while True:\n",
        "  user_input = input(\"User: \")\n",
        "  if user_input.lower()==\"exit\":\n",
        "    break\n",
        "\n",
        "  chat_history.add_user_message(user_input)\n",
        "\n",
        "  ai_response = model.invoke(chat_history.messages)\n",
        "  chat_history.add_ai_message(ai_response.content)\n",
        "\n",
        "  print(f\"AI: {ai_response.content}\")\n"
      ],
      "metadata": {
        "colab": {
          "base_uri": "https://localhost:8080/"
        },
        "id": "cNmZM_4p5j__",
        "outputId": "2a5df85f-ee17-4cc3-bdfa-a8e59b81c9d8"
      },
      "execution_count": 113,
      "outputs": [
        {
          "name": "stdout",
          "output_type": "stream",
          "text": [
            "Start chatting with the AI. Type 'exit' to quit\n",
            "User: bye\n",
            "AI: Goodbye! If you have more questions in the future, feel free to ask. Have a great day!\n",
            "User: exit\n"
          ]
        }
      ]
    },
    {
      "cell_type": "code",
      "source": [],
      "metadata": {
        "id": "DmSv6FS6OTVf"
      },
      "execution_count": 107,
      "outputs": []
    }
  ]
}